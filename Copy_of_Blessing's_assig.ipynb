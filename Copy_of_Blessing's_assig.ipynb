{
  "nbformat": 4,
  "nbformat_minor": 0,
  "metadata": {
    "colab": {
      "name": "Copy of Blessing's assig",
      "provenance": [],
      "collapsed_sections": [],
      "toc_visible": true,
      "include_colab_link": true
    },
    "kernelspec": {
      "name": "python3",
      "display_name": "Python 3"
    }
  },
  "cells": [
    {
      "cell_type": "markdown",
      "metadata": {
        "id": "view-in-github",
        "colab_type": "text"
      },
      "source": [
        "<a href=\"https://colab.research.google.com/github/suryaramadoss1/Jigsaw-Unintended-Bias-in-Toxicity-Classification/blob/master/Copy_of_Blessing's_assig.ipynb\" target=\"_parent\"><img src=\"https://colab.research.google.com/assets/colab-badge.svg\" alt=\"Open In Colab\"/></a>"
      ]
    },
    {
      "cell_type": "markdown",
      "metadata": {
        "id": "UdSZfRWRSYHn",
        "colab_type": "text"
      },
      "source": [
        "## Problem Statement & Data Description\n",
        "\n",
        "#### Problem Statement : To Predict whether a mammogram mass is benign or malignant\n",
        "\n",
        "#### Data description :\n",
        "\n",
        "Doctor's assessment: 1 to 5 (ordinal) [This is subjective]\n",
        "\n",
        "Age: patient's age in years (integer)\n",
        "\n",
        "Shape: mass shape: round=1 oval=2 lobular=3 irregular=4 (nominal)\n",
        "\n",
        "Margin: mass margin: circumscribed=1 microlobulated=2 obscured=3 ill-defined=4 spiculated=5 (nominal)\n",
        "\n",
        "Density: mass density high=1 iso=2 low=3 fat-containing=4 (ordinal)\n",
        "\n",
        "Androgen History - Binary \n",
        "\n",
        "Previous Visit - Binary\n",
        "\n",
        "Blood Group - A, B, AB\n",
        "\n",
        "Severity - Binary\n",
        "\n",
        "\n",
        "Severity: benign=0 or malignant=1 (binominal)"
      ]
    },
    {
      "cell_type": "code",
      "metadata": {
        "id": "dFHp2KICzOAg",
        "colab_type": "code",
        "colab": {}
      },
      "source": [
        ""
      ],
      "execution_count": 0,
      "outputs": []
    },
    {
      "cell_type": "markdown",
      "metadata": {
        "id": "MpLoZFSqeTQD",
        "colab_type": "text"
      },
      "source": [
        "# New Section"
      ]
    },
    {
      "cell_type": "code",
      "metadata": {
        "id": "2Cb_uEA6fqZ8",
        "colab_type": "code",
        "colab": {}
      },
      "source": [
        "# 1) Converted dummies\n",
        "# 2) Outliers treatment - \n",
        "# 3) Missing value treatment - \n",
        "# 4) Different data types\n",
        "# 5) Train & Test Split\n",
        "# 6) Feature Engineerring \n",
        "#    a) Feature scaling\n",
        "#    b) Feature selection\n",
        "# 7) Model Building\n",
        "#     - SVM \n",
        "#     - Trees with ensmb\n",
        "#     - KNN\n",
        "#     - NB \n",
        "#     - Logistic\n",
        "#     - ANN -   \n",
        "# 8) Model Validation - K fold (Accuraries [ 93% ] --- k = 10 folds)\n",
        "# 9) Model Selection - High Bias & Hi Varience | Low Bias and low variance  | Low Boas and High variance | High Variencce and low varience\n",
        "# 10) Deployment - Flask ----> Heroku\n",
        "\n",
        "# SMOTE --- balance data\n"
      ],
      "execution_count": 0,
      "outputs": []
    },
    {
      "cell_type": "code",
      "metadata": {
        "id": "_-ZdOV_zSfUC",
        "colab_type": "code",
        "colab": {}
      },
      "source": [
        "# Import requiered libraries \n",
        "import pandas as pd\n",
        "import numpy as np"
      ],
      "execution_count": 0,
      "outputs": []
    },
    {
      "cell_type": "code",
      "metadata": {
        "id": "VStqgDVGeoLr",
        "colab_type": "code",
        "outputId": "3ff71f71-3e27-4959-b90c-47738b83cd22",
        "colab": {
          "base_uri": "https://localhost:8080/",
          "height": 34
        }
      },
      "source": [
        "ls"
      ],
      "execution_count": 0,
      "outputs": [
        {
          "output_type": "stream",
          "text": [
            "mammographic_masses.csv  \u001b[0m\u001b[01;34msample_data\u001b[0m/\n"
          ],
          "name": "stdout"
        }
      ]
    },
    {
      "cell_type": "code",
      "metadata": {
        "id": "htZmFlSGSvou",
        "colab_type": "code",
        "outputId": "62cd355a-f149-412e-e8fa-acf17003b8a5",
        "colab": {
          "base_uri": "https://localhost:8080/",
          "height": 197
        }
      },
      "source": [
        "# Import dataset\n",
        "df = pd.read_csv('/content/mammographic_masses.csv')\n",
        "df.head()"
      ],
      "execution_count": 0,
      "outputs": [
        {
          "output_type": "execute_result",
          "data": {
            "text/html": [
              "<div>\n",
              "<style scoped>\n",
              "    .dataframe tbody tr th:only-of-type {\n",
              "        vertical-align: middle;\n",
              "    }\n",
              "\n",
              "    .dataframe tbody tr th {\n",
              "        vertical-align: top;\n",
              "    }\n",
              "\n",
              "    .dataframe thead th {\n",
              "        text-align: right;\n",
              "    }\n",
              "</style>\n",
              "<table border=\"1\" class=\"dataframe\">\n",
              "  <thead>\n",
              "    <tr style=\"text-align: right;\">\n",
              "      <th></th>\n",
              "      <th>BI-RADS</th>\n",
              "      <th>age</th>\n",
              "      <th>shape</th>\n",
              "      <th>margin</th>\n",
              "      <th>density</th>\n",
              "      <th>androgen_history</th>\n",
              "      <th>prev_visit</th>\n",
              "      <th>blood_group</th>\n",
              "      <th>severity</th>\n",
              "    </tr>\n",
              "  </thead>\n",
              "  <tbody>\n",
              "    <tr>\n",
              "      <th>0</th>\n",
              "      <td>5.0</td>\n",
              "      <td>67.0</td>\n",
              "      <td>3.0</td>\n",
              "      <td>5.0</td>\n",
              "      <td>3.0</td>\n",
              "      <td>0</td>\n",
              "      <td>1</td>\n",
              "      <td>B</td>\n",
              "      <td>1</td>\n",
              "    </tr>\n",
              "    <tr>\n",
              "      <th>1</th>\n",
              "      <td>4.0</td>\n",
              "      <td>43.0</td>\n",
              "      <td>1.0</td>\n",
              "      <td>1.0</td>\n",
              "      <td>NaN</td>\n",
              "      <td>1</td>\n",
              "      <td>0</td>\n",
              "      <td>A</td>\n",
              "      <td>1</td>\n",
              "    </tr>\n",
              "    <tr>\n",
              "      <th>2</th>\n",
              "      <td>5.0</td>\n",
              "      <td>58.0</td>\n",
              "      <td>4.0</td>\n",
              "      <td>5.0</td>\n",
              "      <td>3.0</td>\n",
              "      <td>1</td>\n",
              "      <td>0</td>\n",
              "      <td>B</td>\n",
              "      <td>1</td>\n",
              "    </tr>\n",
              "    <tr>\n",
              "      <th>3</th>\n",
              "      <td>4.0</td>\n",
              "      <td>28.0</td>\n",
              "      <td>1.0</td>\n",
              "      <td>1.0</td>\n",
              "      <td>3.0</td>\n",
              "      <td>1</td>\n",
              "      <td>0</td>\n",
              "      <td>O</td>\n",
              "      <td>0</td>\n",
              "    </tr>\n",
              "    <tr>\n",
              "      <th>4</th>\n",
              "      <td>5.0</td>\n",
              "      <td>74.0</td>\n",
              "      <td>1.0</td>\n",
              "      <td>5.0</td>\n",
              "      <td>NaN</td>\n",
              "      <td>1</td>\n",
              "      <td>0</td>\n",
              "      <td>A</td>\n",
              "      <td>1</td>\n",
              "    </tr>\n",
              "  </tbody>\n",
              "</table>\n",
              "</div>"
            ],
            "text/plain": [
              "   BI-RADS   age  shape  ...  prev_visit  blood_group  severity\n",
              "0      5.0  67.0    3.0  ...           1            B         1\n",
              "1      4.0  43.0    1.0  ...           0            A         1\n",
              "2      5.0  58.0    4.0  ...           0            B         1\n",
              "3      4.0  28.0    1.0  ...           0            O         0\n",
              "4      5.0  74.0    1.0  ...           0            A         1\n",
              "\n",
              "[5 rows x 9 columns]"
            ]
          },
          "metadata": {
            "tags": []
          },
          "execution_count": 3
        }
      ]
    },
    {
      "cell_type": "code",
      "metadata": {
        "id": "VRgsYZxzjkIv",
        "colab_type": "code",
        "colab": {}
      },
      "source": [
        ""
      ],
      "execution_count": 0,
      "outputs": []
    },
    {
      "cell_type": "markdown",
      "metadata": {
        "id": "6tqFv0xrS-YM",
        "colab_type": "text"
      },
      "source": [
        "## Converting dummies"
      ]
    },
    {
      "cell_type": "code",
      "metadata": {
        "id": "mZsVdIZSTAQ4",
        "colab_type": "code",
        "outputId": "4806eb8e-8a3f-4e3c-9d13-7acf6d770d47",
        "colab": {
          "base_uri": "https://localhost:8080/",
          "height": 234
        }
      },
      "source": [
        "df = pd.get_dummies(df)\n",
        "df.head()"
      ],
      "execution_count": 0,
      "outputs": [
        {
          "output_type": "execute_result",
          "data": {
            "text/html": [
              "<div>\n",
              "<style scoped>\n",
              "    .dataframe tbody tr th:only-of-type {\n",
              "        vertical-align: middle;\n",
              "    }\n",
              "\n",
              "    .dataframe tbody tr th {\n",
              "        vertical-align: top;\n",
              "    }\n",
              "\n",
              "    .dataframe thead th {\n",
              "        text-align: right;\n",
              "    }\n",
              "</style>\n",
              "<table border=\"1\" class=\"dataframe\">\n",
              "  <thead>\n",
              "    <tr style=\"text-align: right;\">\n",
              "      <th></th>\n",
              "      <th>BI-RADS</th>\n",
              "      <th>age</th>\n",
              "      <th>shape</th>\n",
              "      <th>margin</th>\n",
              "      <th>density</th>\n",
              "      <th>androgen_history</th>\n",
              "      <th>prev_visit</th>\n",
              "      <th>severity</th>\n",
              "      <th>blood_group_A</th>\n",
              "      <th>blood_group_AB</th>\n",
              "      <th>blood_group_B</th>\n",
              "      <th>blood_group_O</th>\n",
              "    </tr>\n",
              "  </thead>\n",
              "  <tbody>\n",
              "    <tr>\n",
              "      <th>0</th>\n",
              "      <td>5.0</td>\n",
              "      <td>67.0</td>\n",
              "      <td>3.0</td>\n",
              "      <td>5.0</td>\n",
              "      <td>3.0</td>\n",
              "      <td>0</td>\n",
              "      <td>1</td>\n",
              "      <td>1</td>\n",
              "      <td>0</td>\n",
              "      <td>0</td>\n",
              "      <td>1</td>\n",
              "      <td>0</td>\n",
              "    </tr>\n",
              "    <tr>\n",
              "      <th>1</th>\n",
              "      <td>4.0</td>\n",
              "      <td>43.0</td>\n",
              "      <td>1.0</td>\n",
              "      <td>1.0</td>\n",
              "      <td>NaN</td>\n",
              "      <td>1</td>\n",
              "      <td>0</td>\n",
              "      <td>1</td>\n",
              "      <td>1</td>\n",
              "      <td>0</td>\n",
              "      <td>0</td>\n",
              "      <td>0</td>\n",
              "    </tr>\n",
              "    <tr>\n",
              "      <th>2</th>\n",
              "      <td>5.0</td>\n",
              "      <td>58.0</td>\n",
              "      <td>4.0</td>\n",
              "      <td>5.0</td>\n",
              "      <td>3.0</td>\n",
              "      <td>1</td>\n",
              "      <td>0</td>\n",
              "      <td>1</td>\n",
              "      <td>0</td>\n",
              "      <td>0</td>\n",
              "      <td>1</td>\n",
              "      <td>0</td>\n",
              "    </tr>\n",
              "    <tr>\n",
              "      <th>3</th>\n",
              "      <td>4.0</td>\n",
              "      <td>28.0</td>\n",
              "      <td>1.0</td>\n",
              "      <td>1.0</td>\n",
              "      <td>3.0</td>\n",
              "      <td>1</td>\n",
              "      <td>0</td>\n",
              "      <td>0</td>\n",
              "      <td>0</td>\n",
              "      <td>0</td>\n",
              "      <td>0</td>\n",
              "      <td>1</td>\n",
              "    </tr>\n",
              "    <tr>\n",
              "      <th>4</th>\n",
              "      <td>5.0</td>\n",
              "      <td>74.0</td>\n",
              "      <td>1.0</td>\n",
              "      <td>5.0</td>\n",
              "      <td>NaN</td>\n",
              "      <td>1</td>\n",
              "      <td>0</td>\n",
              "      <td>1</td>\n",
              "      <td>1</td>\n",
              "      <td>0</td>\n",
              "      <td>0</td>\n",
              "      <td>0</td>\n",
              "    </tr>\n",
              "  </tbody>\n",
              "</table>\n",
              "</div>"
            ],
            "text/plain": [
              "   BI-RADS   age  shape  ...  blood_group_AB  blood_group_B  blood_group_O\n",
              "0      5.0  67.0    3.0  ...               0              1              0\n",
              "1      4.0  43.0    1.0  ...               0              0              0\n",
              "2      5.0  58.0    4.0  ...               0              1              0\n",
              "3      4.0  28.0    1.0  ...               0              0              1\n",
              "4      5.0  74.0    1.0  ...               0              0              0\n",
              "\n",
              "[5 rows x 12 columns]"
            ]
          },
          "metadata": {
            "tags": []
          },
          "execution_count": 4
        }
      ]
    },
    {
      "cell_type": "markdown",
      "metadata": {
        "id": "utrUiXanRqb2",
        "colab_type": "text"
      },
      "source": [
        "# Density of missing values //seeing the number of NaN in the different columns/features\n",
        "print(len(df))\n",
        "df.isnull().sum()"
      ]
    },
    {
      "cell_type": "code",
      "metadata": {
        "id": "u-Bc_gmJkfyc",
        "colab_type": "code",
        "colab": {}
      },
      "source": [
        ""
      ],
      "execution_count": 0,
      "outputs": []
    },
    {
      "cell_type": "markdown",
      "metadata": {
        "id": "vFr5-XGETUx8",
        "colab_type": "text"
      },
      "source": [
        "## Checking for outliers"
      ]
    },
    {
      "cell_type": "code",
      "metadata": {
        "id": "cr7IZsqNTWgi",
        "colab_type": "code",
        "outputId": "96809a90-597c-466e-ca7c-00b33c22c8b5",
        "colab": {
          "base_uri": "https://localhost:8080/",
          "height": 970
        }
      },
      "source": [
        "                                                                        import matplotlib.pyplot as plt\n",
        "%matplotlib inline\n",
        "\n",
        "fig = plt.figure(figsize=(30,15))\n",
        "\n",
        "plt.subplot(241)\n",
        "plt.title(\"age\")\n",
        "plt.hist(list(df['age']))\n",
        "\n",
        "plt.subplot(242)\n",
        "plt.title(\"shape\")\n",
        "plt.hist(list(df['shape']))\n",
        "\n",
        "plt.subplot(243)\n",
        "plt.title(\"margin\")\n",
        "plt.hist(list(df['margin']))\n",
        "\n",
        "plt.subplot(244)\n",
        "plt.title(\"density\")\n",
        "plt.hist(list(df['density']))\n",
        "\n",
        "plt.subplot(245)\n",
        "plt.title(\"androgen_history\")\n",
        "plt.hist(list(df['androgen_history']))\n",
        "\n",
        "\n",
        "plt.show()\n",
        "\n",
        "# 2SD - "
      ],
      "execution_count": 0,
      "outputs": [
        {
          "output_type": "stream",
          "text": [
            "/usr/local/lib/python3.6/dist-packages/numpy/lib/histograms.py:839: RuntimeWarning: invalid value encountered in greater_equal\n",
            "  keep = (tmp_a >= first_edge)\n",
            "/usr/local/lib/python3.6/dist-packages/numpy/lib/histograms.py:840: RuntimeWarning: invalid value encountered in less_equal\n",
            "  keep &= (tmp_a <= last_edge)\n"
          ],
          "name": "stderr"
        },
        {
          "output_type": "display_data",
          "data": {
            "image/png": "[encoded data removed]",
            "text/plain": [
              "<Figure size 2160x1080 with 5 Axes>"
            ]
          },
          "metadata": {
            "tags": []
          }
        }
      ]
    },
    {
      "cell_type": "markdown",
      "metadata": {
        "id": "Q80FA4U7mVeP",
        "colab_type": "text"
      },
      "source": [
        "## Treatment of missing values"
      ]
    },
    {
      "cell_type": "code",
      "metadata": {
        "id": "FFWKhMPtUGgv",
        "colab_type": "code",
        "outputId": "c2d31682-38a1-4092-e3c8-0c394ce5638e",
        "colab": {
          "base_uri": "https://localhost:8080/",
          "height": 72
        }
      },
      "source": [
        "df.isnull().sum()\n",
        "\n",
        "# Any one of the following strategy \n",
        "# For skewed data - Median\n",
        "# Normal - Median / Mean\n",
        "# Category - Mode\n",
        "\n",
        "from sklearn.preprocessing import Imputer\n",
        "import numpy as np\n",
        "\n",
        "#1. mean strategy\n",
        "\n",
        "# data = df.copy()\n",
        "# imputer = Imputer(missing_values = np.NAN, strategy = \"mean\")\n",
        "# data.iloc[:,:] = imputer.fit_transform(data.iloc[:,:])\n",
        "\n",
        "#2. most_frequent startegy\n",
        "\n",
        "# data = df.copy()\n",
        "# imputer = Imputer(missing_values = np.NAN, strategy = \"most_frequent\")\n",
        "# data.iloc[:,:] = imputer.fit_transform(data.iloc[:,:])\n",
        "\n",
        "#3. median strategy <-- prefered\n",
        "\n",
        "data = df.copy()\n",
        "imputer = Imputer(missing_values = np.NAN, strategy = \"median\")\n",
        "data.iloc[:,:] = imputer.fit_transform(data.iloc[:,:])\n",
        "\n",
        "# Predictive approach of replacement "
      ],
      "execution_count": 0,
      "outputs": [
        {
          "output_type": "stream",
          "text": [
            "/usr/local/lib/python3.6/dist-packages/sklearn/utils/deprecation.py:66: DeprecationWarning: Class Imputer is deprecated; Imputer was deprecated in version 0.20 and will be removed in 0.22. Import impute.SimpleImputer from sklearn instead.\n",
            "  warnings.warn(msg, category=DeprecationWarning)\n"
          ],
          "name": "stderr"
        }
      ]
    },
    {
      "cell_type": "markdown",
      "metadata": {
        "id": "C_ZjSoljVe0b",
        "colab_type": "text"
      },
      "source": [
        "## Different types of data"
      ]
    },
    {
      "cell_type": "code",
      "metadata": {
        "id": "CpGlW6DLVffW",
        "colab_type": "code",
        "outputId": "fb0d7f9d-03a7-4d81-987c-78418f48ea43",
        "colab": {
          "base_uri": "https://localhost:8080/",
          "height": 247
        }
      },
      "source": [
        "data.dtypes\n",
        "\n",
        "# np.astype()"
      ],
      "execution_count": 0,
      "outputs": [
        {
          "output_type": "execute_result",
          "data": {
            "text/plain": [
              "BI-RADS             float64\n",
              "age                 float64\n",
              "shape               float64\n",
              "margin              float64\n",
              "density             float64\n",
              "androgen_history    float64\n",
              "prev_visit          float64\n",
              "severity            float64\n",
              "blood_group_A       float64\n",
              "blood_group_AB      float64\n",
              "blood_group_B       float64\n",
              "blood_group_O       float64\n",
              "dtype: object"
            ]
          },
          "metadata": {
            "tags": []
          },
          "execution_count": 7
        }
      ]
    },
    {
      "cell_type": "markdown",
      "metadata": {
        "id": "vK0jVr3msLpa",
        "colab_type": "text"
      },
      "source": [
        "## Drop Irrelavant feature "
      ]
    },
    {
      "cell_type": "code",
      "metadata": {
        "id": "UpOv9rV1sSmf",
        "colab_type": "code",
        "colab": {}
      },
      "source": [
        "del data['BI-RADS']"
      ],
      "execution_count": 0,
      "outputs": []
    },
    {
      "cell_type": "code",
      "metadata": {
        "id": "dtMux6Q2sqVL",
        "colab_type": "code",
        "outputId": "9eb73da3-4f73-4d6a-821e-990180c092e8",
        "colab": {
          "base_uri": "https://localhost:8080/",
          "height": 197
        }
      },
      "source": [
        "data.head()"
      ],
      "execution_count": 0,
      "outputs": [
        {
          "output_type": "execute_result",
          "data": {
            "text/html": [
              "<div>\n",
              "<style scoped>\n",
              "    .dataframe tbody tr th:only-of-type {\n",
              "        vertical-align: middle;\n",
              "    }\n",
              "\n",
              "    .dataframe tbody tr th {\n",
              "        vertical-align: top;\n",
              "    }\n",
              "\n",
              "    .dataframe thead th {\n",
              "        text-align: right;\n",
              "    }\n",
              "</style>\n",
              "<table border=\"1\" class=\"dataframe\">\n",
              "  <thead>\n",
              "    <tr style=\"text-align: right;\">\n",
              "      <th></th>\n",
              "      <th>age</th>\n",
              "      <th>shape</th>\n",
              "      <th>margin</th>\n",
              "      <th>density</th>\n",
              "      <th>androgen_history</th>\n",
              "      <th>prev_visit</th>\n",
              "      <th>severity</th>\n",
              "      <th>blood_group_A</th>\n",
              "      <th>blood_group_AB</th>\n",
              "      <th>blood_group_B</th>\n",
              "      <th>blood_group_O</th>\n",
              "    </tr>\n",
              "  </thead>\n",
              "  <tbody>\n",
              "    <tr>\n",
              "      <th>0</th>\n",
              "      <td>67.0</td>\n",
              "      <td>3.0</td>\n",
              "      <td>5.0</td>\n",
              "      <td>3.0</td>\n",
              "      <td>0.0</td>\n",
              "      <td>1.0</td>\n",
              "      <td>1.0</td>\n",
              "      <td>0.0</td>\n",
              "      <td>0.0</td>\n",
              "      <td>1.0</td>\n",
              "      <td>0.0</td>\n",
              "    </tr>\n",
              "    <tr>\n",
              "      <th>1</th>\n",
              "      <td>43.0</td>\n",
              "      <td>1.0</td>\n",
              "      <td>1.0</td>\n",
              "      <td>3.0</td>\n",
              "      <td>1.0</td>\n",
              "      <td>0.0</td>\n",
              "      <td>1.0</td>\n",
              "      <td>1.0</td>\n",
              "      <td>0.0</td>\n",
              "      <td>0.0</td>\n",
              "      <td>0.0</td>\n",
              "    </tr>\n",
              "    <tr>\n",
              "      <th>2</th>\n",
              "      <td>58.0</td>\n",
              "      <td>4.0</td>\n",
              "      <td>5.0</td>\n",
              "      <td>3.0</td>\n",
              "      <td>1.0</td>\n",
              "      <td>0.0</td>\n",
              "      <td>1.0</td>\n",
              "      <td>0.0</td>\n",
              "      <td>0.0</td>\n",
              "      <td>1.0</td>\n",
              "      <td>0.0</td>\n",
              "    </tr>\n",
              "    <tr>\n",
              "      <th>3</th>\n",
              "      <td>28.0</td>\n",
              "      <td>1.0</td>\n",
              "      <td>1.0</td>\n",
              "      <td>3.0</td>\n",
              "      <td>1.0</td>\n",
              "      <td>0.0</td>\n",
              "      <td>0.0</td>\n",
              "      <td>0.0</td>\n",
              "      <td>0.0</td>\n",
              "      <td>0.0</td>\n",
              "      <td>1.0</td>\n",
              "    </tr>\n",
              "    <tr>\n",
              "      <th>4</th>\n",
              "      <td>74.0</td>\n",
              "      <td>1.0</td>\n",
              "      <td>5.0</td>\n",
              "      <td>3.0</td>\n",
              "      <td>1.0</td>\n",
              "      <td>0.0</td>\n",
              "      <td>1.0</td>\n",
              "      <td>1.0</td>\n",
              "      <td>0.0</td>\n",
              "      <td>0.0</td>\n",
              "      <td>0.0</td>\n",
              "    </tr>\n",
              "  </tbody>\n",
              "</table>\n",
              "</div>"
            ],
            "text/plain": [
              "    age  shape  margin  ...  blood_group_AB  blood_group_B  blood_group_O\n",
              "0  67.0    3.0     5.0  ...             0.0            1.0            0.0\n",
              "1  43.0    1.0     1.0  ...             0.0            0.0            0.0\n",
              "2  58.0    4.0     5.0  ...             0.0            1.0            0.0\n",
              "3  28.0    1.0     1.0  ...             0.0            0.0            1.0\n",
              "4  74.0    1.0     5.0  ...             0.0            0.0            0.0\n",
              "\n",
              "[5 rows x 11 columns]"
            ]
          },
          "metadata": {
            "tags": []
          },
          "execution_count": 9
        }
      ]
    },
    {
      "cell_type": "markdown",
      "metadata": {
        "id": "y-vcyF0MVnjf",
        "colab_type": "text"
      },
      "source": [
        "## Train Test Split"
      ]
    },
    {
      "cell_type": "code",
      "metadata": {
        "id": "MUpW9aPFYr9N",
        "colab_type": "code",
        "colab": {}
      },
      "source": [
        "X = data.iloc[:,:-1].values\n",
        "y = data.iloc[:,-1].values\n",
        "from sklearn.model_selection import train_test_split\n",
        "X_train, X_test, Y_train, Y_test = train_test_split(X, y, test_size=0.2, random_state=0)\n"
      ],
      "execution_count": 0,
      "outputs": []
    },
    {
      "cell_type": "code",
      "metadata": {
        "id": "CtYmETvct203",
        "colab_type": "code",
        "outputId": "7ed9eaa8-24d2-40a5-afbe-10f3d2551471",
        "colab": {
          "base_uri": "https://localhost:8080/",
          "height": 52
        }
      },
      "source": [
        "print(len(X_train))\n",
        "print(len(X_test))"
      ],
      "execution_count": 0,
      "outputs": [
        {
          "output_type": "stream",
          "text": [
            "34596\n",
            "8649\n"
          ],
          "name": "stdout"
        }
      ]
    },
    {
      "cell_type": "markdown",
      "metadata": {
        "id": "lLx16ET5V1Be",
        "colab_type": "text"
      },
      "source": [
        "## Feature scaling\n"
      ]
    },
    {
      "cell_type": "code",
      "metadata": {
        "id": "OOFxDkvSV_AC",
        "colab_type": "code",
        "colab": {}
      },
      "source": [
        "# 1 - > Standard scalar  --- > Mean = 0 and Std dev = 1 --> z = (x-mean(x))/sd(x)\n",
        "# 2 - > Normalizer       ----> ? Have a look at working of both these scaling techniques\n",
        "# 3 - > Min Max scalar   ----> ? \n",
        "\n",
        "# Negative to non-negetive - > e(x)\n",
        "\n",
        "# Skew - > Normal ---------> log ---- > \n",
        "\n",
        "# Linear Reg -> 1 - Normally distributed, 2.- Homoscedacity 3 - Lnear relationship 4- Multico--\n",
        "\n",
        "from sklearn.preprocessing import StandardScaler\n",
        "sc = StandardScaler()\n",
        "X_train =sc.fit_transform(X_train)\n",
        "X_test = sc.transform(X_test)"
      ],
      "execution_count": 0,
      "outputs": []
    },
    {
      "cell_type": "markdown",
      "metadata": {
        "id": "Gy1PteOlYiV6",
        "colab_type": "text"
      },
      "source": [
        "## Model Building & Evaluation"
      ]
    },
    {
      "cell_type": "code",
      "metadata": {
        "id": "R9ibPAB2SSML",
        "colab_type": "code",
        "outputId": "d6d6f823-871f-4147-afd0-98a4d1f428d3",
        "colab": {
          "base_uri": "https://localhost:8080/",
          "height": 905
        }
      },
      "source": [
        "from sklearn.model_selection import RepeatedKFold \n",
        "kf = RepeatedKFold(n_splits=5, n_repeats=10, random_state=0) \n",
        "\n",
        "for train_index, test_index in kf.split(X):\n",
        "      print(\"Train:\", train_index, \"Validation:\",test_index)\n",
        "      X_train, X_test = X[train_index], X[test_index] \n",
        "      y_train, y_test = y[train_index], y[test_index]"
      ],
      "execution_count": 0,
      "outputs": [
        {
          "output_type": "stream",
          "text": [
            "Train: [    0     1     2 ... 43240 43241 43244] Validation: [    6    18    22 ... 43234 43242 43243]\n",
            "Train: [    0     1     2 ... 43241 43242 43243] Validation: [    3     4     7 ... 43236 43240 43244]\n",
            "Train: [    1     2     3 ... 43242 43243 43244] Validation: [    0     8     9 ... 43218 43219 43222]\n",
            "Train: [    0     3     4 ... 43242 43243 43244] Validation: [    1     2     5 ... 43235 43237 43238]\n",
            "Train: [    0     1     2 ... 43242 43243 43244] Validation: [   10    11    13 ... 43228 43239 43241]\n",
            "Train: [    0     1     2 ... 43240 43242 43244] Validation: [    7    15    18 ... 43237 43241 43243]\n",
            "Train: [    0     1     2 ... 43241 43243 43244] Validation: [    3     8    11 ... 43234 43240 43242]\n",
            "Train: [    0     2     3 ... 43242 43243 43244] Validation: [    1    12    14 ... 43227 43228 43229]\n",
            "Train: [    0     1     3 ... 43242 43243 43244] Validation: [    2     6     9 ... 43231 43232 43239]\n",
            "Train: [    1     2     3 ... 43241 43242 43243] Validation: [    0     4     5 ... 43235 43238 43244]\n",
            "Train: [    0     1     2 ... 43242 43243 43244] Validation: [    4     5    17 ... 43231 43238 43240]\n",
            "Train: [    0     3     4 ... 43242 43243 43244] Validation: [    1     2    12 ... 43212 43223 43226]\n",
            "Train: [    1     2     3 ... 43242 43243 43244] Validation: [    0    13    14 ... 43228 43233 43236]\n",
            "Train: [    0     1     2 ... 43241 43242 43244] Validation: [    3     6     7 ... 43237 43239 43243]\n",
            "Train: [    0     1     2 ... 43239 43240 43243] Validation: [    8     9    10 ... 43241 43242 43244]\n",
            "Train: [    0     1     2 ... 43242 43243 43244] Validation: [    5     6     8 ... 43223 43232 43236]\n",
            "Train: [    0     1     2 ... 43242 43243 43244] Validation: [   12    14    16 ... 43225 43235 43241]\n",
            "Train: [    0     1     4 ... 43241 43242 43244] Validation: [    2     3     9 ... 43226 43233 43243]\n",
            "Train: [    0     2     3 ... 43241 43243 43244] Validation: [    1    10    30 ... 43238 43239 43242]\n",
            "Train: [    1     2     3 ... 43241 43242 43243] Validation: [    0     4     7 ... 43237 43240 43244]\n",
            "Train: [    0     1     2 ... 43241 43242 43244] Validation: [    5    19    32 ... 43234 43236 43243]\n",
            "Train: [    0     1     2 ... 43242 43243 43244] Validation: [    9    13    14 ... 43218 43222 43224]\n",
            "Train: [    1     4     5 ... 43242 43243 43244] Validation: [    0     2     3 ... 43228 43231 43239]\n",
            "Train: [    0     1     2 ... 43242 43243 43244] Validation: [    4    11    15 ... 43235 43237 43238]\n",
            "Train: [    0     2     3 ... 43238 43239 43243] Validation: [    1     8    12 ... 43241 43242 43244]\n",
            "Train: [    0     1     2 ... 43241 43242 43244] Validation: [    3    14    15 ... 43233 43234 43243]\n",
            "Train: [    0     2     3 ... 43241 43242 43243] Validation: [    1     4     7 ... 43231 43237 43244]\n",
            "Train: [    1     2     3 ... 43242 43243 43244] Validation: [    0     6    16 ... 43224 43238 43239]\n",
            "Train: [    0     1     2 ... 43240 43243 43244] Validation: [    8     9    11 ... 43236 43241 43242]\n",
            "Train: [    0     1     3 ... 43242 43243 43244] Validation: [    2     5    10 ... 43232 43235 43240]\n",
            "Train: [    0     1     2 ... 43242 43243 43244] Validation: [    4     9    16 ... 43233 43235 43237]\n",
            "Train: [    0     1     2 ... 43242 43243 43244] Validation: [    5     7    11 ... 43236 43240 43241]\n",
            "Train: [    0     2     3 ... 43241 43243 43244] Validation: [    1    10    12 ... 43229 43234 43242]\n",
            "Train: [    1     4     5 ... 43241 43242 43244] Validation: [    0     2     3 ... 43225 43238 43243]\n",
            "Train: [    0     1     2 ... 43241 43242 43243] Validation: [    8    13    15 ... 43232 43239 43244]\n",
            "Train: [    1     2     4 ... 43242 43243 43244] Validation: [    0     3     8 ... 43214 43231 43240]\n",
            "Train: [    0     2     3 ... 43242 43243 43244] Validation: [    1    12    16 ... 43233 43235 43236]\n",
            "Train: [    0     1     2 ... 43240 43243 43244] Validation: [    4     5     6 ... 43239 43241 43242]\n",
            "Train: [    0     1     3 ... 43240 43241 43242] Validation: [    2     9    18 ... 43232 43243 43244]\n",
            "Train: [    0     1     2 ... 43242 43243 43244] Validation: [   10    13    17 ... 43224 43228 43230]\n",
            "Train: [    0     1     2 ... 43241 43242 43244] Validation: [    7     8     9 ... 43229 43234 43243]\n",
            "Train: [    0     1     2 ... 43239 43242 43243] Validation: [    5     6    14 ... 43240 43241 43244]\n",
            "Train: [    1     2     3 ... 43241 43243 43244] Validation: [    0    12    16 ... 43238 43239 43242]\n",
            "Train: [    0     2     3 ... 43242 43243 43244] Validation: [    1    10    19 ... 43214 43228 43237]\n",
            "Train: [    0     1     5 ... 43242 43243 43244] Validation: [    2     3     4 ... 43232 43233 43236]\n",
            "Train: [    0     1     3 ... 43239 43241 43243] Validation: [    2     4     5 ... 43240 43242 43244]\n",
            "Train: [    0     1     2 ... 43242 43243 43244] Validation: [    3    10    16 ... 43229 43232 43234]\n",
            "Train: [    0     1     2 ... 43242 43243 43244] Validation: [   11    19    20 ... 43237 43239 43241]\n",
            "Train: [    0     1     2 ... 43241 43242 43244] Validation: [    7    23    25 ... 43233 43238 43243]\n",
            "Train: [    2     3     4 ... 43242 43243 43244] Validation: [    0     1     8 ... 43224 43235 43236]\n"
          ],
          "name": "stdout"
        }
      ]
    },
    {
      "cell_type": "code",
      "metadata": {
        "id": "UeBYJK_jLJrf",
        "colab_type": "code",
        "outputId": "728d2d67-ae1e-460e-b377-4b28e5cb3eb0",
        "colab": {
          "base_uri": "https://localhost:8080/",
          "height": 303
        }
      },
      "source": [
        "LR = LogisticRegression(random_state=0)\n",
        "LR.fit(X_train,Y_train)\n",
        "LR_pred = LR.predict(X_test)\n",
        "print(\"Logistic Regression:\" )\n",
        "print(accuracy_score(Y_test,LR_pred))\n",
        "print(classification_report(Y_test, LR_pred))"
      ],
      "execution_count": 0,
      "outputs": [
        {
          "output_type": "stream",
          "text": [
            "Logistic Regression:\n",
            "0.7597410105214476\n",
            "              precision    recall  f1-score   support\n",
            "\n",
            "         0.0       0.76      1.00      0.86      6571\n",
            "         1.0       0.00      0.00      0.00      2078\n",
            "\n",
            "    accuracy                           0.76      8649\n",
            "   macro avg       0.38      0.50      0.43      8649\n",
            "weighted avg       0.58      0.76      0.66      8649\n",
            "\n"
          ],
          "name": "stdout"
        },
        {
          "output_type": "stream",
          "text": [
            "/usr/local/lib/python3.6/dist-packages/sklearn/linear_model/logistic.py:432: FutureWarning: Default solver will be changed to 'lbfgs' in 0.22. Specify a solver to silence this warning.\n",
            "  FutureWarning)\n",
            "/usr/local/lib/python3.6/dist-packages/sklearn/metrics/classification.py:1437: UndefinedMetricWarning: Precision and F-score are ill-defined and being set to 0.0 in labels with no predicted samples.\n",
            "  'precision', 'predicted', average, warn_for)\n"
          ],
          "name": "stderr"
        }
      ]
    },
    {
      "cell_type": "code",
      "metadata": {
        "id": "xP4sXBaC6_IX",
        "colab_type": "code",
        "outputId": "3c114e40-ed6c-48c4-df10-15a992b77d95",
        "colab": {
          "base_uri": "https://localhost:8080/",
          "height": 285
        }
      },
      "source": [
        "from sklearn import svm\n",
        "svm = svm.SVC()\n",
        "svm.fit(X_train,Y_train)  \n",
        "svm_pred = svm.predict(X_test)\n",
        "print(accuracy_score(Y_test,svm_pred))\n",
        "print(classification_report(Y_test, svm_pred))\n"
      ],
      "execution_count": 0,
      "outputs": [
        {
          "output_type": "stream",
          "text": [
            "/usr/local/lib/python3.6/dist-packages/sklearn/svm/base.py:193: FutureWarning: The default value of gamma will change from 'auto' to 'scale' in version 0.22 to account better for unscaled features. Set gamma explicitly to 'auto' or 'scale' to avoid this warning.\n",
            "  \"avoid this warning.\", FutureWarning)\n"
          ],
          "name": "stderr"
        },
        {
          "output_type": "stream",
          "text": [
            "0.7597410105214476\n",
            "              precision    recall  f1-score   support\n",
            "\n",
            "         0.0       0.76      1.00      0.86      6571\n",
            "         1.0       0.00      0.00      0.00      2078\n",
            "\n",
            "    accuracy                           0.76      8649\n",
            "   macro avg       0.38      0.50      0.43      8649\n",
            "weighted avg       0.58      0.76      0.66      8649\n",
            "\n"
          ],
          "name": "stdout"
        },
        {
          "output_type": "stream",
          "text": [
            "/usr/local/lib/python3.6/dist-packages/sklearn/metrics/classification.py:1437: UndefinedMetricWarning: Precision and F-score are ill-defined and being set to 0.0 in labels with no predicted samples.\n",
            "  'precision', 'predicted', average, warn_for)\n"
          ],
          "name": "stderr"
        }
      ]
    },
    {
      "cell_type": "code",
      "metadata": {
        "id": "0lgfj6WxwOtH",
        "colab_type": "code",
        "outputId": "683492bc-f613-4bb4-f626-1103541d2585",
        "colab": {
          "base_uri": "https://localhost:8080/",
          "height": 194
        }
      },
      "source": [
        "from sklearn.tree import DecisionTreeClassifier\n",
        "DT = DecisionTreeClassifier()\n",
        "DT.fit(X_train, Y_train)\n",
        "DT_pred = DT.predict(X_test)\n",
        "print (accuracy_score(Y_test,DT_pred))\n",
        "print(classification_report(Y_test, DT_pred))"
      ],
      "execution_count": 0,
      "outputs": [
        {
          "output_type": "stream",
          "text": [
            "0.7227425135853855\n",
            "              precision    recall  f1-score   support\n",
            "\n",
            "         0.0       0.76      0.93      0.84      6571\n",
            "         1.0       0.24      0.07      0.11      2078\n",
            "\n",
            "    accuracy                           0.72      8649\n",
            "   macro avg       0.50      0.50      0.47      8649\n",
            "weighted avg       0.63      0.72      0.66      8649\n",
            "\n"
          ],
          "name": "stdout"
        }
      ]
    },
    {
      "cell_type": "code",
      "metadata": {
        "id": "6gXPmPaCx6SR",
        "colab_type": "code",
        "colab": {}
      },
      "source": [
        "from sklearn.model_selection import GridSearchCV\n",
        "from sklearn.tree import DecisionTreeClassifier\n",
        "parameters={'min_samples_split' : range(10,500,20),'max_depth': range(1,20,2)}\n",
        "model = DecisionTreeClassifier()\n",
        "\n",
        "grid_search = GridSearchCV(estimator = model,\n",
        "param_grid = parameters,\n",
        "scoring = 'accuracy',\n",
        "cv = 10,\n",
        "n_jobs = -1)\n",
        "grid_search = grid_search.fit(X_train, Y_train)"
      ],
      "execution_count": 0,
      "outputs": []
    },
    {
      "cell_type": "code",
      "metadata": {
        "id": "a8SrByhi0jLH",
        "colab_type": "code",
        "outputId": "e811d833-2e66-4e25-b14a-4c0a0092fc87",
        "colab": {
          "base_uri": "https://localhost:8080/",
          "height": 247
        }
      },
      "source": [
        "DecisionTreeClassifier().get_params()"
      ],
      "execution_count": 0,
      "outputs": [
        {
          "output_type": "execute_result",
          "data": {
            "text/plain": [
              "{'class_weight': None,\n",
              " 'criterion': 'gini',\n",
              " 'max_depth': None,\n",
              " 'max_features': None,\n",
              " 'max_leaf_nodes': None,\n",
              " 'min_impurity_decrease': 0.0,\n",
              " 'min_impurity_split': None,\n",
              " 'min_samples_leaf': 1,\n",
              " 'min_samples_split': 2,\n",
              " 'min_weight_fraction_leaf': 0.0,\n",
              " 'presort': False,\n",
              " 'random_state': None,\n",
              " 'splitter': 'best'}"
            ]
          },
          "metadata": {
            "tags": []
          },
          "execution_count": 18
        }
      ]
    },
    {
      "cell_type": "code",
      "metadata": {
        "id": "UIQJB4dq0vZb",
        "colab_type": "code",
        "outputId": "e03cfee6-3b48-4e15-9dba-85adbd402013",
        "colab": {
          "base_uri": "https://localhost:8080/",
          "height": 34
        }
      },
      "source": [
        "accuracy = grid_search.best_score_\n",
        "print(accuracy)"
      ],
      "execution_count": 0,
      "outputs": [
        {
          "output_type": "stream",
          "text": [
            "0.7563013065094231\n"
          ],
          "name": "stdout"
        }
      ]
    },
    {
      "cell_type": "code",
      "metadata": {
        "id": "z45TUIcWYLOn",
        "colab_type": "code",
        "outputId": "aae1656c-3146-49c8-ad2a-220b63d37fe2",
        "colab": {
          "base_uri": "https://localhost:8080/",
          "height": 250
        }
      },
      "source": [
        "from sklearn.ensemble import RandomForestClassifier\n",
        "Rf = RandomForestClassifier(random_state=0)\n",
        "Rf.fit(X_train,Y_train)\n",
        "Rf_pred = Rf.predict(X_test)\n",
        "print(accuracy_score(Y_test,Rf_pred))\n",
        "print(classification_report(Y_test,Rf_pred))\n",
        "\n"
      ],
      "execution_count": 0,
      "outputs": [
        {
          "output_type": "stream",
          "text": [
            "/usr/local/lib/python3.6/dist-packages/sklearn/ensemble/forest.py:245: FutureWarning: The default value of n_estimators will change from 10 in version 0.20 to 100 in 0.22.\n",
            "  \"10 in version 0.20 to 100 in 0.22.\", FutureWarning)\n"
          ],
          "name": "stderr"
        },
        {
          "output_type": "stream",
          "text": [
            "0.7062088102670829\n",
            "              precision    recall  f1-score   support\n",
            "\n",
            "         0.0       0.76      0.90      0.82      6571\n",
            "         1.0       0.23      0.10      0.14      2078\n",
            "\n",
            "    accuracy                           0.71      8649\n",
            "   macro avg       0.49      0.50      0.48      8649\n",
            "weighted avg       0.63      0.71      0.66      8649\n",
            "\n"
          ],
          "name": "stdout"
        }
      ]
    },
    {
      "cell_type": "code",
      "metadata": {
        "id": "uex2TZ1RzsKg",
        "colab_type": "code",
        "colab": {}
      },
      "source": [
        "from sklearn.model_selection import GridSearchCV\n",
        "from sklearn.tree import DecisionTreeClassifier\n",
        "parameters={'min_samples_split' : range(10,500,20),'max_depth': range(1,20,2)}\n",
        "model = DecisionTreeClassifier()\n",
        "\n",
        "grid_search = GridSearchCV(estimator = model,\n",
        "param_grid = parameters,\n",
        "scoring = 'accuracy',\n",
        "cv = 10,\n",
        "n_jobs = -1)\n",
        "grid_search = grid_search.fit(X_train, Y_train)"
      ],
      "execution_count": 0,
      "outputs": []
    },
    {
      "cell_type": "code",
      "metadata": {
        "id": "GPz3A2XdwHNe",
        "colab_type": "code",
        "outputId": "91861fd8-40f8-4ccb-d430-a2db89eb67e5",
        "colab": {
          "base_uri": "https://localhost:8080/",
          "height": 194
        }
      },
      "source": [
        "from xgboost import XGBClassifier\n",
        "XGB = XGBClassifier()\n",
        "XGB.fit(X_train,Y_train)\n",
        "XGB_pred = XGB.predict(X_test)\n",
        "print(accuracy_score(Y_test,XGB_pred))\n",
        "print(classification_report(Y_test, XGB_pred))"
      ],
      "execution_count": 0,
      "outputs": [
        {
          "output_type": "stream",
          "text": [
            "0.7592785293097468\n",
            "              precision    recall  f1-score   support\n",
            "\n",
            "         0.0       0.76      1.00      0.86      6571\n",
            "         1.0       0.00      0.00      0.00      2078\n",
            "\n",
            "    accuracy                           0.76      8649\n",
            "   macro avg       0.38      0.50      0.43      8649\n",
            "weighted avg       0.58      0.76      0.66      8649\n",
            "\n"
          ],
          "name": "stdout"
        }
      ]
    },
    {
      "cell_type": "code",
      "metadata": {
        "id": "MMWiZwQSbAmW",
        "colab_type": "code",
        "outputId": "e3fac4cb-838e-4777-8e11-d6e3043492bf",
        "colab": {
          "base_uri": "https://localhost:8080/",
          "height": 194
        }
      },
      "source": [
        "from sklearn.neighbors import KNeighborsClassifier\n",
        "KNN = KNeighborsClassifier()\n",
        "KNN.fit(X_train, Y_train)\n",
        "KNN_pred = KNN.predict(X_test)\n",
        "print(accuracy_score(Y_test,KNN_pred))\n",
        "print(classification_report(Y_test, KNN_pred))"
      ],
      "execution_count": 0,
      "outputs": [
        {
          "output_type": "stream",
          "text": [
            "0.70146837784715\n",
            "              precision    recall  f1-score   support\n",
            "\n",
            "         0.0       0.76      0.90      0.82      6571\n",
            "         1.0       0.20      0.08      0.12      2078\n",
            "\n",
            "    accuracy                           0.70      8649\n",
            "   macro avg       0.48      0.49      0.47      8649\n",
            "weighted avg       0.62      0.70      0.65      8649\n",
            "\n"
          ],
          "name": "stdout"
        }
      ]
    },
    {
      "cell_type": "code",
      "metadata": {
        "id": "HezTEDFHdoya",
        "colab_type": "code",
        "outputId": "a97f85a5-8765-4958-a99c-54d9542f62a8",
        "colab": {
          "base_uri": "https://localhost:8080/",
          "height": 250
        }
      },
      "source": [
        "from sklearn.naive_bayes import GaussianNB\n",
        "NB = GaussianNB()\n",
        "NB.fit(X_train, Y_train)\n",
        "NB_pred= NB.predict(X_test)\n",
        "print(accuracy_score(Y_test,NB_pred))\n",
        "print(classification_report(Y_test, NB_pred))"
      ],
      "execution_count": 0,
      "outputs": [
        {
          "output_type": "stream",
          "text": [
            "0.7597410105214476\n",
            "              precision    recall  f1-score   support\n",
            "\n",
            "         0.0       0.76      1.00      0.86      6571\n",
            "         1.0       0.00      0.00      0.00      2078\n",
            "\n",
            "    accuracy                           0.76      8649\n",
            "   macro avg       0.38      0.50      0.43      8649\n",
            "weighted avg       0.58      0.76      0.66      8649\n",
            "\n"
          ],
          "name": "stdout"
        },
        {
          "output_type": "stream",
          "text": [
            "/usr/local/lib/python3.6/dist-packages/sklearn/metrics/classification.py:1437: UndefinedMetricWarning: Precision and F-score are ill-defined and being set to 0.0 in labels with no predicted samples.\n",
            "  'precision', 'predicted', average, warn_for)\n"
          ],
          "name": "stderr"
        }
      ]
    },
    {
      "cell_type": "code",
      "metadata": {
        "id": "0A8c6DXHfRCf",
        "colab_type": "code",
        "outputId": "1bad5ad0-fb09-44ba-ee2c-948681cffd66",
        "colab": {
          "base_uri": "https://localhost:8080/",
          "height": 158
        }
      },
      "source": [
        "values = [ (0.76, 0.58, 0.76, 0.66) ,\n",
        "             (0.72, 0.63, 0.72, 0.66 ) ,\n",
        "             (0.70, 0.63, 0.71, 0.66 ) ,\n",
        "             (0.76, 0.58, 0.76, 0.66 ) ,\n",
        "             (0.76, 0.58, 0.76, 0.66) ,\n",
        "             (0.76, 0.58, 0.76, 0.66) ,\n",
        "             (0.70, 0.62, 0.70, 0.65) ]\n",
        "dfObj = pd.DataFrame(values, columns=['Accuracy', 'Precision', 'Recall', 'f1 Score'], index=['SVM', 'DT', 'RF', 'XG', 'LR', 'NB', 'KNN'])\n",
        " \n",
        "print(dfObj)"
      ],
      "execution_count": 0,
      "outputs": [
        {
          "output_type": "stream",
          "text": [
            "     Accuracy  Precision  Recall  f1 Score\n",
            "SVM      0.76       0.58    0.76      0.66\n",
            "DT       0.72       0.63    0.72      0.66\n",
            "RF       0.70       0.63    0.71      0.66\n",
            "XG       0.76       0.58    0.76      0.66\n",
            "LR       0.76       0.58    0.76      0.66\n",
            "NB       0.76       0.58    0.76      0.66\n",
            "KNN      0.70       0.62    0.70      0.65\n"
          ],
          "name": "stdout"
        }
      ]
    }
  ]
}